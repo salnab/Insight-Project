{
 "cells": [
  {
   "cell_type": "code",
   "execution_count": 1,
   "metadata": {
    "collapsed": true
   },
   "outputs": [],
   "source": [
    "%matplotlib inline\n",
    "import pandas as pd\n",
    "import numpy as np\n",
    "import seaborn as sns\n",
    "import matplotlib.pyplot as plt"
   ]
  },
  {
   "cell_type": "code",
   "execution_count": 2,
   "metadata": {
    "collapsed": true
   },
   "outputs": [],
   "source": [
    "userPoolInfo = pd.read_csv('userPoolInfo_2', sep=',', encoding='latin 1')"
   ]
  },
  {
   "cell_type": "code",
   "execution_count": 3,
   "metadata": {},
   "outputs": [
    {
     "data": {
      "text/plain": [
       "(211364, 5)"
      ]
     },
     "execution_count": 3,
     "metadata": {},
     "output_type": "execute_result"
    }
   ],
   "source": [
    "userPoolInfo.shape"
   ]
  },
  {
   "cell_type": "code",
   "execution_count": 4,
   "metadata": {},
   "outputs": [
    {
     "name": "stdout",
     "output_type": "stream",
     "text": [
      "2031\n",
      "15300\n"
     ]
    }
   ],
   "source": [
    "print(len(np.unique(userPoolInfo.username)))\n",
    "print(len(np.unique(userPoolInfo['game id'])))"
   ]
  },
  {
   "cell_type": "code",
   "execution_count": 5,
   "metadata": {},
   "outputs": [
    {
     "data": {
      "text/html": [
       "<div>\n",
       "<style>\n",
       "    .dataframe thead tr:only-child th {\n",
       "        text-align: right;\n",
       "    }\n",
       "\n",
       "    .dataframe thead th {\n",
       "        text-align: left;\n",
       "    }\n",
       "\n",
       "    .dataframe tbody tr th {\n",
       "        vertical-align: top;\n",
       "    }\n",
       "</style>\n",
       "<table border=\"1\" class=\"dataframe\">\n",
       "  <thead>\n",
       "    <tr style=\"text-align: right;\">\n",
       "      <th></th>\n",
       "      <th>Unnamed: 0</th>\n",
       "      <th>game</th>\n",
       "      <th>game id</th>\n",
       "      <th>rating</th>\n",
       "      <th>username</th>\n",
       "    </tr>\n",
       "  </thead>\n",
       "  <tbody>\n",
       "    <tr>\n",
       "      <th>0</th>\n",
       "      <td>0</td>\n",
       "      <td>7 Wonders</td>\n",
       "      <td>68448</td>\n",
       "      <td>7.5</td>\n",
       "      <td>Quantiarc</td>\n",
       "    </tr>\n",
       "    <tr>\n",
       "      <th>1</th>\n",
       "      <td>1</td>\n",
       "      <td>7 Wonders Duel</td>\n",
       "      <td>173346</td>\n",
       "      <td>9.0</td>\n",
       "      <td>Quantiarc</td>\n",
       "    </tr>\n",
       "    <tr>\n",
       "      <th>2</th>\n",
       "      <td>2</td>\n",
       "      <td>Acquire</td>\n",
       "      <td>5</td>\n",
       "      <td>8.5</td>\n",
       "      <td>Quantiarc</td>\n",
       "    </tr>\n",
       "    <tr>\n",
       "      <th>3</th>\n",
       "      <td>3</td>\n",
       "      <td>Age of War</td>\n",
       "      <td>155695</td>\n",
       "      <td>7.5</td>\n",
       "      <td>Quantiarc</td>\n",
       "    </tr>\n",
       "    <tr>\n",
       "      <th>4</th>\n",
       "      <td>4</td>\n",
       "      <td>Agricola</td>\n",
       "      <td>31260</td>\n",
       "      <td>8.0</td>\n",
       "      <td>Quantiarc</td>\n",
       "    </tr>\n",
       "  </tbody>\n",
       "</table>\n",
       "</div>"
      ],
      "text/plain": [
       "   Unnamed: 0            game  game id  rating   username\n",
       "0           0       7 Wonders    68448     7.5  Quantiarc\n",
       "1           1  7 Wonders Duel   173346     9.0  Quantiarc\n",
       "2           2         Acquire        5     8.5  Quantiarc\n",
       "3           3      Age of War   155695     7.5  Quantiarc\n",
       "4           4        Agricola    31260     8.0  Quantiarc"
      ]
     },
     "execution_count": 5,
     "metadata": {},
     "output_type": "execute_result"
    }
   ],
   "source": [
    "userPoolInfo.head()"
   ]
  },
  {
   "cell_type": "markdown",
   "metadata": {},
   "source": [
    "## Summary statistics of ratings"
   ]
  },
  {
   "cell_type": "code",
   "execution_count": 6,
   "metadata": {},
   "outputs": [
    {
     "name": "stdout",
     "output_type": "stream",
     "text": [
      "6.82815946854713\n",
      "1.6351690315917862\n",
      "211364\n"
     ]
    },
    {
     "data": {
      "image/png": "[encoded data removed]",
      "text/plain": [
       "<matplotlib.figure.Figure at 0x2a16d7d8080>"
      ]
     },
     "metadata": {},
     "output_type": "display_data"
    }
   ],
   "source": [
    "y = userPoolInfo['rating']\n",
    "sns.distplot(y, kde=False, hist_kws=dict(edgecolor=\"k\", linewidth=1))\n",
    "plt.xlabel('rating')\n",
    "plt.ylabel('counts')\n",
    "plt.title('Distribution of ratings')\n",
    "print(np.mean(y))\n",
    "print(np.std(y))\n",
    "print(len(y))"
   ]
  },
  {
   "cell_type": "code",
   "execution_count": 7,
   "metadata": {},
   "outputs": [
    {
     "name": "stdout",
     "output_type": "stream",
     "text": [
      "5.991242274584013\n",
      "1.4417149614062295\n",
      "15300\n"
     ]
    },
    {
     "data": {
      "image/png": "[encoded data removed]",
      "text/plain": [
       "<matplotlib.figure.Figure at 0x16dd161f160>"
      ]
     },
     "metadata": {},
     "output_type": "display_data"
    }
   ],
   "source": [
    "y = userPoolInfo.groupby('game id')['rating'].mean()\n",
    "sns.distplot(y, kde=False, bins=15, hist_kws=dict(edgecolor=\"k\", linewidth=1))\n",
    "sns.set_context(\"talk\")\n",
    "plt.xlabel('average rating', fontsize=20)\n",
    "plt.ylabel('counts', fontsize=20)\n",
    "plt.title('Distribution of average ratings per game', fontsize=20)\n",
    "print(np.mean(y))\n",
    "print(np.std(y))\n",
    "print(len(y))\n",
    "plt.savefig('avgratingdist.png', bbox_inches='tight')"
   ]
  },
  {
   "cell_type": "code",
   "execution_count": 10,
   "metadata": {},
   "outputs": [
    {
     "name": "stdout",
     "output_type": "stream",
     "text": [
      "7.248387058015942\n",
      "0.7453204612589504\n",
      "2031\n"
     ]
    },
    {
     "data": {
      "image/png": "[encoded data removed]",
      "text/plain": [
       "<matplotlib.figure.Figure at 0x16dd1d7fda0>"
      ]
     },
     "metadata": {},
     "output_type": "display_data"
    }
   ],
   "source": [
    "y = userPoolInfo.groupby('username')['rating'].mean()\n",
    "sns.distplot(y, kde=False, bins=15, hist_kws=dict(edgecolor=\"k\", linewidth=1))\n",
    "sns.set_context(\"talk\")\n",
    "plt.xlabel(' average rating', fontsize=20)\n",
    "plt.ylabel('counts', fontsize=20)\n",
    "plt.title('Distribution of average ratings per user', fontsize=20)\n",
    "plt.xlim(1, 10.5)\n",
    "print(np.mean(y))\n",
    "print(np.std(y))\n",
    "print(len(y))\n",
    "plt.savefig('avguserratingdist.png', bbox_inches='tight')"
   ]
  },
  {
   "cell_type": "code",
   "execution_count": 9,
   "metadata": {},
   "outputs": [
    {
     "data": {
      "text/plain": [
       "evingerm@epix.net      2518\n",
       "fiorevita              1772\n",
       "Pozman                 1651\n",
       "LucyJo                 1363\n",
       "MarkEJohnson           1305\n",
       "roberious              1283\n",
       "sweetsweetdoughnuts    1275\n",
       "Windmilling            1256\n",
       "william4192            1248\n",
       "faqtotum               1231\n",
       "elschmear              1204\n",
       "pulla                  1195\n",
       "Celtic                 1147\n",
       "LookAtTheBacon         1064\n",
       "rabid_schnauzer         986\n",
       "Damlog                  961\n",
       "voynitsky               955\n",
       "pusboyau                857\n",
       "Joshuaaaaaa             843\n",
       "Ninebreaker2            779\n",
       "unshod                  763\n",
       "petegrey                735\n",
       "WonderCinz              732\n",
       "Lothartvni              727\n",
       "liga                    726\n",
       "pijll                   725\n",
       "Hollender               721\n",
       "Galahad                 711\n",
       "aldaryn                 697\n",
       "StatSig                 680\n",
       "                       ... \n",
       "newtonc                   3\n",
       "GTthunder580              3\n",
       "rdourado                  3\n",
       "thefritobandito           3\n",
       "dr-evil                   3\n",
       "sebmarchand               3\n",
       "carcassonnegurl           3\n",
       "Plumcake                  3\n",
       "andyv89                   2\n",
       "knightsnap                2\n",
       "wotfanak47                2\n",
       "hosigaj31                 2\n",
       "juli1908                  2\n",
       "lhr93                     2\n",
       "ciesielski                2\n",
       "morris_street_life        2\n",
       "a_v14u                    2\n",
       "orbilin                   2\n",
       "CatanFan1                 2\n",
       "dark_melancholy           2\n",
       "Iliescu                   1\n",
       "chungking_express         1\n",
       "lanceu                    1\n",
       "morikalina                1\n",
       "Cobro60                   1\n",
       "mbetzkin                  1\n",
       "istymay77                 1\n",
       "s4dfish                   1\n",
       "MechaSenpai16             1\n",
       "Inmar                     1\n",
       "Name: username, Length: 2031, dtype: int64"
      ]
     },
     "execution_count": 9,
     "metadata": {},
     "output_type": "execute_result"
    }
   ],
   "source": [
    "userPoolInfo.username.value_counts()"
   ]
  },
  {
   "cell_type": "code",
   "execution_count": 10,
   "metadata": {
    "scrolled": false
   },
   "outputs": [
    {
     "name": "stdout",
     "output_type": "stream",
     "text": [
      "8.226068376068376\n",
      "0.873989403142964\n",
      "39\n"
     ]
    },
    {
     "data": {
      "image/png": "[encoded data removed]",
      "text/plain": [
       "<matplotlib.figure.Figure at 0x2a16d856b38>"
      ]
     },
     "metadata": {},
     "output_type": "display_data"
    }
   ],
   "source": [
    "userPoolInfo_groupusers = userPoolInfo.groupby('username')['rating'].count()\n",
    "userPoolInfo_groupusers_small = userPoolInfo_groupusers[userPoolInfo_groupusers.sort_values() <= 3]\n",
    "y = userPoolInfo[userPoolInfo.username.isin(userPoolInfo_groupusers_small.index)].groupby('username')['rating'].mean()\n",
    "sns.distplot(y, kde=False, hist_kws=dict(edgecolor=\"k\", linewidth=1))\n",
    "plt.xlabel('rating')\n",
    "plt.ylabel('counts')\n",
    "plt.title('Average user ratings for users with three or fewer ratings')\n",
    "print(np.mean(y))\n",
    "print(np.std(y))\n",
    "print(len(y))"
   ]
  },
  {
   "cell_type": "code",
   "execution_count": 11,
   "metadata": {},
   "outputs": [
    {
     "name": "stdout",
     "output_type": "stream",
     "text": [
      "6.401739407044832\n",
      "0.5301279704075035\n",
      "14\n"
     ]
    },
    {
     "data": {
      "image/png": "[encoded data removed]",
      "text/plain": [
       "<matplotlib.figure.Figure at 0x2a16d7d80f0>"
      ]
     },
     "metadata": {},
     "output_type": "display_data"
    }
   ],
   "source": [
    "userPoolInfo_groupusers = userPoolInfo.groupby('username')['rating'].count()\n",
    "userPoolInfo_groupusers_big = userPoolInfo_groupusers[userPoolInfo_groupusers.sort_values() >= 1000]\n",
    "y = userPoolInfo[userPoolInfo.username.isin(userPoolInfo_groupusers_big.index)].groupby('username')['rating'].mean()\n",
    "sns.distplot(y, kde=False, hist_kws=dict(edgecolor=\"k\", linewidth=1))\n",
    "plt.xlabel('rating')\n",
    "plt.ylabel('counts')\n",
    "plt.title('Distribution of average user ratings for users with 1000 or more ratings')\n",
    "print(np.mean(y))\n",
    "print(np.std(y))\n",
    "print(len(y))"
   ]
  },
  {
   "cell_type": "code",
   "execution_count": 42,
   "metadata": {},
   "outputs": [
    {
     "data": {
      "text/plain": [
       "13        2062\n",
       "822       1318\n",
       "30549     1173\n",
       "36218     1086\n",
       "9209       986\n",
       "3076       978\n",
       "68448      972\n",
       "31260      932\n",
       "2651       861\n",
       "40692      835\n",
       "478        763\n",
       "129622     727\n",
       "14996      724\n",
       "70323      701\n",
       "39856      675\n",
       "28143      666\n",
       "178900     642\n",
       "148228     632\n",
       "34635      599\n",
       "11         597\n",
       "1927       576\n",
       "110327     567\n",
       "65244      539\n",
       "50         535\n",
       "41114      531\n",
       "84876      517\n",
       "98778      516\n",
       "15987      504\n",
       "12333      500\n",
       "40834      491\n",
       "          ... \n",
       "10282        1\n",
       "9770         1\n",
       "26146        1\n",
       "122389       1\n",
       "31905        1\n",
       "164279       1\n",
       "199247       1\n",
       "158122       1\n",
       "141730       1\n",
       "59770        1\n",
       "22892        1\n",
       "146409       1\n",
       "177927       1\n",
       "7213         1\n",
       "10594        1\n",
       "134255       1\n",
       "17574        1\n",
       "194032       1\n",
       "86349        1\n",
       "11988        1\n",
       "93443        1\n",
       "5420         1\n",
       "3375         1\n",
       "38204        1\n",
       "198328       1\n",
       "32161        1\n",
       "9642         1\n",
       "1752         1\n",
       "218564       1\n",
       "185996       1\n",
       "Name: game id, Length: 15300, dtype: int64"
      ]
     },
     "execution_count": 42,
     "metadata": {},
     "output_type": "execute_result"
    }
   ],
   "source": [
    "userPoolInfo['game id'].value_counts()"
   ]
  },
  {
   "cell_type": "code",
   "execution_count": 13,
   "metadata": {},
   "outputs": [
    {
     "name": "stdout",
     "output_type": "stream",
     "text": [
      "7.507815539698362\n",
      "0.13846858586423766\n",
      "4\n"
     ]
    },
    {
     "data": {
      "image/png": "[encoded data removed]",
      "text/plain": [
       "<matplotlib.figure.Figure at 0x2a16dc6a7b8>"
      ]
     },
     "metadata": {},
     "output_type": "display_data"
    }
   ],
   "source": [
    "userPoolInfo_groupgames = userPoolInfo.groupby('game id')['rating'].count()\n",
    "userPoolInfo_groupgames_big = userPoolInfo_groupgames[userPoolInfo_groupgames.sort_values() >= 1000]\n",
    "y = userPoolInfo[userPoolInfo['game id'].isin(userPoolInfo_groupgames_big.index)].groupby('game id')['rating'].mean()\n",
    "sns.distplot(y, bins=12, kde=False, hist_kws=dict(edgecolor=\"k\", linewidth=1))\n",
    "plt.xlabel('rating')\n",
    "plt.ylabel('counts')\n",
    "plt.title('Distribution of average game ratings for games with over 1000 ratings')\n",
    "print(np.mean(y))\n",
    "print(np.std(y))\n",
    "print(len(y))"
   ]
  },
  {
   "cell_type": "code",
   "execution_count": 43,
   "metadata": {},
   "outputs": [
    {
     "name": "stdout",
     "output_type": "stream",
     "text": [
      "5.655481783269328\n",
      "1.7908783415687206\n",
      "5989\n"
     ]
    },
    {
     "data": {
      "image/png": "[encoded data removed]",
      "text/plain": [
       "<matplotlib.figure.Figure at 0x2a16ed37588>"
      ]
     },
     "metadata": {},
     "output_type": "display_data"
    }
   ],
   "source": [
    "userPoolInfo_groupgames = userPoolInfo.groupby('game id')['rating'].count()\n",
    "userPoolInfo_groupgames_small = userPoolInfo_groupgames[userPoolInfo_groupgames.sort_values() <= 1]\n",
    "y = userPoolInfo[userPoolInfo['game id'].isin(userPoolInfo_groupgames_small.index)].groupby('game id')['rating'].mean()\n",
    "sns.distplot(y, kde=False, bins=10, hist_kws=dict(edgecolor=\"k\", linewidth=1))\n",
    "plt.xlabel('rating')\n",
    "plt.ylabel('counts')\n",
    "plt.title('Distribution of average game ratings for games with 1 rating')\n",
    "print(np.mean(y))\n",
    "print(np.std(y))\n",
    "print(len(y))"
   ]
  },
  {
   "cell_type": "code",
   "execution_count": 15,
   "metadata": {},
   "outputs": [
    {
     "data": {
      "text/html": [
       "<div>\n",
       "<style>\n",
       "    .dataframe thead tr:only-child th {\n",
       "        text-align: right;\n",
       "    }\n",
       "\n",
       "    .dataframe thead th {\n",
       "        text-align: left;\n",
       "    }\n",
       "\n",
       "    .dataframe tbody tr th {\n",
       "        vertical-align: top;\n",
       "    }\n",
       "</style>\n",
       "<table border=\"1\" class=\"dataframe\">\n",
       "  <thead>\n",
       "    <tr style=\"text-align: right;\">\n",
       "      <th></th>\n",
       "      <th>Unnamed: 0</th>\n",
       "      <th>game</th>\n",
       "      <th>game id</th>\n",
       "      <th>rating</th>\n",
       "      <th>username</th>\n",
       "    </tr>\n",
       "  </thead>\n",
       "  <tbody>\n",
       "    <tr>\n",
       "      <th>149</th>\n",
       "      <td>149</td>\n",
       "      <td>More Curses!</td>\n",
       "      <td>177131</td>\n",
       "      <td>5.0</td>\n",
       "      <td>SuzyPlantation</td>\n",
       "    </tr>\n",
       "    <tr>\n",
       "      <th>277</th>\n",
       "      <td>277</td>\n",
       "      <td>Natives</td>\n",
       "      <td>235902</td>\n",
       "      <td>6.0</td>\n",
       "      <td>Miss_Meeple</td>\n",
       "    </tr>\n",
       "    <tr>\n",
       "      <th>282</th>\n",
       "      <td>282</td>\n",
       "      <td>Origami</td>\n",
       "      <td>234469</td>\n",
       "      <td>6.5</td>\n",
       "      <td>Miss_Meeple</td>\n",
       "    </tr>\n",
       "    <tr>\n",
       "      <th>331</th>\n",
       "      <td>331</td>\n",
       "      <td>Il Trono di Mortadella</td>\n",
       "      <td>208888</td>\n",
       "      <td>6.0</td>\n",
       "      <td>Miss_Meeple</td>\n",
       "    </tr>\n",
       "    <tr>\n",
       "      <th>555</th>\n",
       "      <td>555</td>\n",
       "      <td>Boon</td>\n",
       "      <td>180894</td>\n",
       "      <td>8.0</td>\n",
       "      <td>wizardoest</td>\n",
       "    </tr>\n",
       "    <tr>\n",
       "      <th>711</th>\n",
       "      <td>711</td>\n",
       "      <td>Bedlam</td>\n",
       "      <td>5149</td>\n",
       "      <td>5.0</td>\n",
       "      <td>Raving_Engineer</td>\n",
       "    </tr>\n",
       "    <tr>\n",
       "      <th>718</th>\n",
       "      <td>718</td>\n",
       "      <td>Monopoly: Ipswich Edition</td>\n",
       "      <td>28368</td>\n",
       "      <td>5.5</td>\n",
       "      <td>Raving_Engineer</td>\n",
       "    </tr>\n",
       "    <tr>\n",
       "      <th>723</th>\n",
       "      <td>723</td>\n",
       "      <td>Top Gear</td>\n",
       "      <td>69909</td>\n",
       "      <td>4.0</td>\n",
       "      <td>Raving_Engineer</td>\n",
       "    </tr>\n",
       "    <tr>\n",
       "      <th>763</th>\n",
       "      <td>763</td>\n",
       "      <td>Eye of Horus</td>\n",
       "      <td>3398</td>\n",
       "      <td>5.0</td>\n",
       "      <td>stwerner92182</td>\n",
       "    </tr>\n",
       "    <tr>\n",
       "      <th>775</th>\n",
       "      <td>775</td>\n",
       "      <td>Hunting and Fishing Trivia</td>\n",
       "      <td>9926</td>\n",
       "      <td>4.0</td>\n",
       "      <td>stwerner92182</td>\n",
       "    </tr>\n",
       "    <tr>\n",
       "      <th>853</th>\n",
       "      <td>853</td>\n",
       "      <td>1972: The Lost Phantom</td>\n",
       "      <td>231152</td>\n",
       "      <td>6.5</td>\n",
       "      <td>mtngrown</td>\n",
       "    </tr>\n",
       "    <tr>\n",
       "      <th>863</th>\n",
       "      <td>863</td>\n",
       "      <td>Barbarossa: Kiev to Rostov, 1941</td>\n",
       "      <td>29875</td>\n",
       "      <td>7.0</td>\n",
       "      <td>mtngrown</td>\n",
       "    </tr>\n",
       "    <tr>\n",
       "      <th>868</th>\n",
       "      <td>868</td>\n",
       "      <td>Binh Dinh '69</td>\n",
       "      <td>189374</td>\n",
       "      <td>7.0</td>\n",
       "      <td>mtngrown</td>\n",
       "    </tr>\n",
       "    <tr>\n",
       "      <th>881</th>\n",
       "      <td>881</td>\n",
       "      <td>Courage Under Fire</td>\n",
       "      <td>39071</td>\n",
       "      <td>6.0</td>\n",
       "      <td>mtngrown</td>\n",
       "    </tr>\n",
       "    <tr>\n",
       "      <th>884</th>\n",
       "      <td>884</td>\n",
       "      <td>Dien Bien Phu</td>\n",
       "      <td>12527</td>\n",
       "      <td>6.0</td>\n",
       "      <td>mtngrown</td>\n",
       "    </tr>\n",
       "    <tr>\n",
       "      <th>889</th>\n",
       "      <td>889</td>\n",
       "      <td>Duel on the Steppe: The Winter Campaign in the...</td>\n",
       "      <td>137803</td>\n",
       "      <td>6.5</td>\n",
       "      <td>mtngrown</td>\n",
       "    </tr>\n",
       "    <tr>\n",
       "      <th>892</th>\n",
       "      <td>892</td>\n",
       "      <td>The Fall of South Vietnam</td>\n",
       "      <td>4303</td>\n",
       "      <td>6.0</td>\n",
       "      <td>mtngrown</td>\n",
       "    </tr>\n",
       "    <tr>\n",
       "      <th>894</th>\n",
       "      <td>894</td>\n",
       "      <td>The Final Frontier: Man's Expansion into the S...</td>\n",
       "      <td>14474</td>\n",
       "      <td>6.5</td>\n",
       "      <td>mtngrown</td>\n",
       "    </tr>\n",
       "    <tr>\n",
       "      <th>897</th>\n",
       "      <td>897</td>\n",
       "      <td>Fox One</td>\n",
       "      <td>7396</td>\n",
       "      <td>6.0</td>\n",
       "      <td>mtngrown</td>\n",
       "    </tr>\n",
       "    <tr>\n",
       "      <th>903</th>\n",
       "      <td>903</td>\n",
       "      <td>Grunt</td>\n",
       "      <td>7026</td>\n",
       "      <td>6.5</td>\n",
       "      <td>mtngrown</td>\n",
       "    </tr>\n",
       "    <tr>\n",
       "      <th>912</th>\n",
       "      <td>912</td>\n",
       "      <td>Karelia '44</td>\n",
       "      <td>39345</td>\n",
       "      <td>6.5</td>\n",
       "      <td>mtngrown</td>\n",
       "    </tr>\n",
       "    <tr>\n",
       "      <th>922</th>\n",
       "      <td>922</td>\n",
       "      <td>'Nam Diary</td>\n",
       "      <td>12224</td>\n",
       "      <td>6.0</td>\n",
       "      <td>mtngrown</td>\n",
       "    </tr>\n",
       "    <tr>\n",
       "      <th>943</th>\n",
       "      <td>943</td>\n",
       "      <td>Search &amp; Destroy</td>\n",
       "      <td>8033</td>\n",
       "      <td>7.5</td>\n",
       "      <td>mtngrown</td>\n",
       "    </tr>\n",
       "    <tr>\n",
       "      <th>945</th>\n",
       "      <td>945</td>\n",
       "      <td>Silver Bayonet: The First Team in Vietnam, 1965</td>\n",
       "      <td>7994</td>\n",
       "      <td>8.0</td>\n",
       "      <td>mtngrown</td>\n",
       "    </tr>\n",
       "    <tr>\n",
       "      <th>956</th>\n",
       "      <td>956</td>\n",
       "      <td>Tet Offensive</td>\n",
       "      <td>5881</td>\n",
       "      <td>7.0</td>\n",
       "      <td>mtngrown</td>\n",
       "    </tr>\n",
       "    <tr>\n",
       "      <th>957</th>\n",
       "      <td>957</td>\n",
       "      <td>Think Thrice</td>\n",
       "      <td>124197</td>\n",
       "      <td>5.0</td>\n",
       "      <td>mtngrown</td>\n",
       "    </tr>\n",
       "    <tr>\n",
       "      <th>964</th>\n",
       "      <td>964</td>\n",
       "      <td>Viet Nam</td>\n",
       "      <td>9827</td>\n",
       "      <td>6.0</td>\n",
       "      <td>mtngrown</td>\n",
       "    </tr>\n",
       "    <tr>\n",
       "      <th>966</th>\n",
       "      <td>966</td>\n",
       "      <td>Vietnam Battles: Snoopy's Nose &amp; Iron Triangle</td>\n",
       "      <td>131894</td>\n",
       "      <td>6.5</td>\n",
       "      <td>mtngrown</td>\n",
       "    </tr>\n",
       "    <tr>\n",
       "      <th>967</th>\n",
       "      <td>967</td>\n",
       "      <td>Vietnam Solitaire Special Edition</td>\n",
       "      <td>148471</td>\n",
       "      <td>7.5</td>\n",
       "      <td>mtngrown</td>\n",
       "    </tr>\n",
       "    <tr>\n",
       "      <th>969</th>\n",
       "      <td>969</td>\n",
       "      <td>What Went Wrong: The Battle of Ap Bac, January...</td>\n",
       "      <td>153433</td>\n",
       "      <td>6.0</td>\n",
       "      <td>mtngrown</td>\n",
       "    </tr>\n",
       "    <tr>\n",
       "      <th>...</th>\n",
       "      <td>...</td>\n",
       "      <td>...</td>\n",
       "      <td>...</td>\n",
       "      <td>...</td>\n",
       "      <td>...</td>\n",
       "    </tr>\n",
       "    <tr>\n",
       "      <th>210125</th>\n",
       "      <td>210125</td>\n",
       "      <td>Mensch ärgere Dich nicht: Das Kartenspiel</td>\n",
       "      <td>153103</td>\n",
       "      <td>6.5</td>\n",
       "      <td>Jester_dt</td>\n",
       "    </tr>\n",
       "    <tr>\n",
       "      <th>210130</th>\n",
       "      <td>210130</td>\n",
       "      <td>Monza: Das Kartenspiel</td>\n",
       "      <td>99166</td>\n",
       "      <td>6.5</td>\n",
       "      <td>Jester_dt</td>\n",
       "    </tr>\n",
       "    <tr>\n",
       "      <th>210138</th>\n",
       "      <td>210138</td>\n",
       "      <td>¡New Amici!</td>\n",
       "      <td>14040</td>\n",
       "      <td>3.0</td>\n",
       "      <td>Jester_dt</td>\n",
       "    </tr>\n",
       "    <tr>\n",
       "      <th>210151</th>\n",
       "      <td>210151</td>\n",
       "      <td>Ohne Haufen, dumm gelaufen</td>\n",
       "      <td>157571</td>\n",
       "      <td>6.0</td>\n",
       "      <td>Jester_dt</td>\n",
       "    </tr>\n",
       "    <tr>\n",
       "      <th>210211</th>\n",
       "      <td>210211</td>\n",
       "      <td>Robin Hund</td>\n",
       "      <td>93443</td>\n",
       "      <td>6.0</td>\n",
       "      <td>Jester_dt</td>\n",
       "    </tr>\n",
       "    <tr>\n",
       "      <th>210223</th>\n",
       "      <td>210223</td>\n",
       "      <td>Sarkophag</td>\n",
       "      <td>181955</td>\n",
       "      <td>6.5</td>\n",
       "      <td>Jester_dt</td>\n",
       "    </tr>\n",
       "    <tr>\n",
       "      <th>210230</th>\n",
       "      <td>210230</td>\n",
       "      <td>Schweinebammel</td>\n",
       "      <td>41573</td>\n",
       "      <td>6.0</td>\n",
       "      <td>Jester_dt</td>\n",
       "    </tr>\n",
       "    <tr>\n",
       "      <th>210257</th>\n",
       "      <td>210257</td>\n",
       "      <td>Stadtgespräch</td>\n",
       "      <td>11076</td>\n",
       "      <td>6.0</td>\n",
       "      <td>Jester_dt</td>\n",
       "    </tr>\n",
       "    <tr>\n",
       "      <th>210281</th>\n",
       "      <td>210281</td>\n",
       "      <td>Team Work: Feste &amp; Feiern</td>\n",
       "      <td>32665</td>\n",
       "      <td>6.0</td>\n",
       "      <td>Jester_dt</td>\n",
       "    </tr>\n",
       "    <tr>\n",
       "      <th>210287</th>\n",
       "      <td>210287</td>\n",
       "      <td>Tierisch bedroht</td>\n",
       "      <td>208643</td>\n",
       "      <td>6.5</td>\n",
       "      <td>Jester_dt</td>\n",
       "    </tr>\n",
       "    <tr>\n",
       "      <th>210300</th>\n",
       "      <td>210300</td>\n",
       "      <td>Ugah Ugah!</td>\n",
       "      <td>183344</td>\n",
       "      <td>7.0</td>\n",
       "      <td>Jester_dt</td>\n",
       "    </tr>\n",
       "    <tr>\n",
       "      <th>210342</th>\n",
       "      <td>210342</td>\n",
       "      <td>Cut and Run</td>\n",
       "      <td>1242</td>\n",
       "      <td>3.0</td>\n",
       "      <td>Liljeberg</td>\n",
       "    </tr>\n",
       "    <tr>\n",
       "      <th>210344</th>\n",
       "      <td>210344</td>\n",
       "      <td>Drakguldet</td>\n",
       "      <td>33810</td>\n",
       "      <td>4.0</td>\n",
       "      <td>Liljeberg</td>\n",
       "    </tr>\n",
       "    <tr>\n",
       "      <th>210346</th>\n",
       "      <td>210346</td>\n",
       "      <td>Funny Farm</td>\n",
       "      <td>25505</td>\n",
       "      <td>4.0</td>\n",
       "      <td>Liljeberg</td>\n",
       "    </tr>\n",
       "    <tr>\n",
       "      <th>210349</th>\n",
       "      <td>210349</td>\n",
       "      <td>När &amp; Fjärran</td>\n",
       "      <td>9249</td>\n",
       "      <td>6.5</td>\n",
       "      <td>Liljeberg</td>\n",
       "    </tr>\n",
       "    <tr>\n",
       "      <th>210353</th>\n",
       "      <td>210353</td>\n",
       "      <td>Små kloka barn på bokstavsjakt</td>\n",
       "      <td>40181</td>\n",
       "      <td>4.0</td>\n",
       "      <td>Liljeberg</td>\n",
       "    </tr>\n",
       "    <tr>\n",
       "      <th>210357</th>\n",
       "      <td>210357</td>\n",
       "      <td>Wall Street</td>\n",
       "      <td>31848</td>\n",
       "      <td>5.0</td>\n",
       "      <td>Liljeberg</td>\n",
       "    </tr>\n",
       "    <tr>\n",
       "      <th>210381</th>\n",
       "      <td>210381</td>\n",
       "      <td>BABEL</td>\n",
       "      <td>217378</td>\n",
       "      <td>5.5</td>\n",
       "      <td>larsene</td>\n",
       "    </tr>\n",
       "    <tr>\n",
       "      <th>210427</th>\n",
       "      <td>210427</td>\n",
       "      <td>DiceAFARI</td>\n",
       "      <td>111830</td>\n",
       "      <td>5.5</td>\n",
       "      <td>larsene</td>\n",
       "    </tr>\n",
       "    <tr>\n",
       "      <th>210447</th>\n",
       "      <td>210447</td>\n",
       "      <td>FAKIR</td>\n",
       "      <td>196224</td>\n",
       "      <td>6.0</td>\n",
       "      <td>larsene</td>\n",
       "    </tr>\n",
       "    <tr>\n",
       "      <th>210467</th>\n",
       "      <td>210467</td>\n",
       "      <td>Gangster</td>\n",
       "      <td>25749</td>\n",
       "      <td>5.4</td>\n",
       "      <td>larsene</td>\n",
       "    </tr>\n",
       "    <tr>\n",
       "      <th>210485</th>\n",
       "      <td>210485</td>\n",
       "      <td>HATSUDEN</td>\n",
       "      <td>228234</td>\n",
       "      <td>6.0</td>\n",
       "      <td>larsene</td>\n",
       "    </tr>\n",
       "    <tr>\n",
       "      <th>210705</th>\n",
       "      <td>210705</td>\n",
       "      <td>Alpha Playing Cards</td>\n",
       "      <td>2762</td>\n",
       "      <td>7.0</td>\n",
       "      <td>Zinger</td>\n",
       "    </tr>\n",
       "    <tr>\n",
       "      <th>210777</th>\n",
       "      <td>210777</td>\n",
       "      <td>Commercial Crazies</td>\n",
       "      <td>2677</td>\n",
       "      <td>6.0</td>\n",
       "      <td>Zinger</td>\n",
       "    </tr>\n",
       "    <tr>\n",
       "      <th>210873</th>\n",
       "      <td>210873</td>\n",
       "      <td>Holiday!</td>\n",
       "      <td>512</td>\n",
       "      <td>4.5</td>\n",
       "      <td>Zinger</td>\n",
       "    </tr>\n",
       "    <tr>\n",
       "      <th>210874</th>\n",
       "      <td>210874</td>\n",
       "      <td>How to Host a Murder: A Matter of Faxe</td>\n",
       "      <td>4879</td>\n",
       "      <td>9.0</td>\n",
       "      <td>Zinger</td>\n",
       "    </tr>\n",
       "    <tr>\n",
       "      <th>210876</th>\n",
       "      <td>210876</td>\n",
       "      <td>How to Host a Murder: The Hollywood Premiere o...</td>\n",
       "      <td>5381</td>\n",
       "      <td>8.0</td>\n",
       "      <td>Zinger</td>\n",
       "    </tr>\n",
       "    <tr>\n",
       "      <th>210956</th>\n",
       "      <td>210956</td>\n",
       "      <td>National Geographic Geo Bee Challenge Game</td>\n",
       "      <td>18045</td>\n",
       "      <td>1.0</td>\n",
       "      <td>Zinger</td>\n",
       "    </tr>\n",
       "    <tr>\n",
       "      <th>211244</th>\n",
       "      <td>211244</td>\n",
       "      <td>Diskwars: Legend of the Five Rings</td>\n",
       "      <td>4175</td>\n",
       "      <td>7.0</td>\n",
       "      <td>pconnor</td>\n",
       "    </tr>\n",
       "    <tr>\n",
       "      <th>211342</th>\n",
       "      <td>211342</td>\n",
       "      <td>The Other Hat Trick</td>\n",
       "      <td>145206</td>\n",
       "      <td>8.5</td>\n",
       "      <td>neuhausr</td>\n",
       "    </tr>\n",
       "  </tbody>\n",
       "</table>\n",
       "<p>5989 rows × 5 columns</p>\n",
       "</div>"
      ],
      "text/plain": [
       "        Unnamed: 0                                               game  \\\n",
       "149            149                                       More Curses!   \n",
       "277            277                                            Natives   \n",
       "282            282                                            Origami   \n",
       "331            331                             Il Trono di Mortadella   \n",
       "555            555                                               Boon   \n",
       "711            711                                             Bedlam   \n",
       "718            718                          Monopoly: Ipswich Edition   \n",
       "723            723                                           Top Gear   \n",
       "763            763                                       Eye of Horus   \n",
       "775            775                         Hunting and Fishing Trivia   \n",
       "853            853                             1972: The Lost Phantom   \n",
       "863            863                   Barbarossa: Kiev to Rostov, 1941   \n",
       "868            868                                      Binh Dinh '69   \n",
       "881            881                                 Courage Under Fire   \n",
       "884            884                                      Dien Bien Phu   \n",
       "889            889  Duel on the Steppe: The Winter Campaign in the...   \n",
       "892            892                          The Fall of South Vietnam   \n",
       "894            894  The Final Frontier: Man's Expansion into the S...   \n",
       "897            897                                            Fox One   \n",
       "903            903                                              Grunt   \n",
       "912            912                                        Karelia '44   \n",
       "922            922                                         'Nam Diary   \n",
       "943            943                                   Search & Destroy   \n",
       "945            945    Silver Bayonet: The First Team in Vietnam, 1965   \n",
       "956            956                                      Tet Offensive   \n",
       "957            957                                       Think Thrice   \n",
       "964            964                                           Viet Nam   \n",
       "966            966     Vietnam Battles: Snoopy's Nose & Iron Triangle   \n",
       "967            967                  Vietnam Solitaire Special Edition   \n",
       "969            969  What Went Wrong: The Battle of Ap Bac, January...   \n",
       "...            ...                                                ...   \n",
       "210125      210125          Mensch ärgere Dich nicht: Das Kartenspiel   \n",
       "210130      210130                             Monza: Das Kartenspiel   \n",
       "210138      210138                                        ¡New Amici!   \n",
       "210151      210151                         Ohne Haufen, dumm gelaufen   \n",
       "210211      210211                                         Robin Hund   \n",
       "210223      210223                                          Sarkophag   \n",
       "210230      210230                                     Schweinebammel   \n",
       "210257      210257                                      Stadtgespräch   \n",
       "210281      210281                          Team Work: Feste & Feiern   \n",
       "210287      210287                                   Tierisch bedroht   \n",
       "210300      210300                                         Ugah Ugah!   \n",
       "210342      210342                                        Cut and Run   \n",
       "210344      210344                                         Drakguldet   \n",
       "210346      210346                                         Funny Farm   \n",
       "210349      210349                                      När & Fjärran   \n",
       "210353      210353                     Små kloka barn på bokstavsjakt   \n",
       "210357      210357                                        Wall Street   \n",
       "210381      210381                                              BABEL   \n",
       "210427      210427                                          DiceAFARI   \n",
       "210447      210447                                              FAKIR   \n",
       "210467      210467                                           Gangster   \n",
       "210485      210485                                           HATSUDEN   \n",
       "210705      210705                                Alpha Playing Cards   \n",
       "210777      210777                                 Commercial Crazies   \n",
       "210873      210873                                           Holiday!   \n",
       "210874      210874             How to Host a Murder: A Matter of Faxe   \n",
       "210876      210876  How to Host a Murder: The Hollywood Premiere o...   \n",
       "210956      210956         National Geographic Geo Bee Challenge Game   \n",
       "211244      211244                 Diskwars: Legend of the Five Rings   \n",
       "211342      211342                                The Other Hat Trick   \n",
       "\n",
       "        game id  rating         username  \n",
       "149      177131     5.0   SuzyPlantation  \n",
       "277      235902     6.0      Miss_Meeple  \n",
       "282      234469     6.5      Miss_Meeple  \n",
       "331      208888     6.0      Miss_Meeple  \n",
       "555      180894     8.0       wizardoest  \n",
       "711        5149     5.0  Raving_Engineer  \n",
       "718       28368     5.5  Raving_Engineer  \n",
       "723       69909     4.0  Raving_Engineer  \n",
       "763        3398     5.0    stwerner92182  \n",
       "775        9926     4.0    stwerner92182  \n",
       "853      231152     6.5         mtngrown  \n",
       "863       29875     7.0         mtngrown  \n",
       "868      189374     7.0         mtngrown  \n",
       "881       39071     6.0         mtngrown  \n",
       "884       12527     6.0         mtngrown  \n",
       "889      137803     6.5         mtngrown  \n",
       "892        4303     6.0         mtngrown  \n",
       "894       14474     6.5         mtngrown  \n",
       "897        7396     6.0         mtngrown  \n",
       "903        7026     6.5         mtngrown  \n",
       "912       39345     6.5         mtngrown  \n",
       "922       12224     6.0         mtngrown  \n",
       "943        8033     7.5         mtngrown  \n",
       "945        7994     8.0         mtngrown  \n",
       "956        5881     7.0         mtngrown  \n",
       "957      124197     5.0         mtngrown  \n",
       "964        9827     6.0         mtngrown  \n",
       "966      131894     6.5         mtngrown  \n",
       "967      148471     7.5         mtngrown  \n",
       "969      153433     6.0         mtngrown  \n",
       "...         ...     ...              ...  \n",
       "210125   153103     6.5        Jester_dt  \n",
       "210130    99166     6.5        Jester_dt  \n",
       "210138    14040     3.0        Jester_dt  \n",
       "210151   157571     6.0        Jester_dt  \n",
       "210211    93443     6.0        Jester_dt  \n",
       "210223   181955     6.5        Jester_dt  \n",
       "210230    41573     6.0        Jester_dt  \n",
       "210257    11076     6.0        Jester_dt  \n",
       "210281    32665     6.0        Jester_dt  \n",
       "210287   208643     6.5        Jester_dt  \n",
       "210300   183344     7.0        Jester_dt  \n",
       "210342     1242     3.0        Liljeberg  \n",
       "210344    33810     4.0        Liljeberg  \n",
       "210346    25505     4.0        Liljeberg  \n",
       "210349     9249     6.5        Liljeberg  \n",
       "210353    40181     4.0        Liljeberg  \n",
       "210357    31848     5.0        Liljeberg  \n",
       "210381   217378     5.5          larsene  \n",
       "210427   111830     5.5          larsene  \n",
       "210447   196224     6.0          larsene  \n",
       "210467    25749     5.4          larsene  \n",
       "210485   228234     6.0          larsene  \n",
       "210705     2762     7.0           Zinger  \n",
       "210777     2677     6.0           Zinger  \n",
       "210873      512     4.5           Zinger  \n",
       "210874     4879     9.0           Zinger  \n",
       "210876     5381     8.0           Zinger  \n",
       "210956    18045     1.0           Zinger  \n",
       "211244     4175     7.0          pconnor  \n",
       "211342   145206     8.5         neuhausr  \n",
       "\n",
       "[5989 rows x 5 columns]"
      ]
     },
     "execution_count": 15,
     "metadata": {},
     "output_type": "execute_result"
    }
   ],
   "source": [
    "userPoolInfo[userPoolInfo['game id'].isin(userPoolInfo_groupgames_small.index)]"
   ]
  },
  {
   "cell_type": "markdown",
   "metadata": {},
   "source": [
    "## Interesting point here is that a lot of the 1-rating games are small card/dice games that have quick play time"
   ]
  },
  {
   "cell_type": "code",
   "execution_count": 16,
   "metadata": {},
   "outputs": [
    {
     "data": {
      "text/plain": [
       "game id\n",
       "30549    7.533406\n",
       "Name: rating, dtype: float64"
      ]
     },
     "execution_count": 16,
     "metadata": {},
     "output_type": "execute_result"
    }
   ],
   "source": [
    "userPoolInfo[userPoolInfo['game id']==30549].groupby('game id')['rating'].mean()"
   ]
  },
  {
   "cell_type": "code",
   "execution_count": 17,
   "metadata": {},
   "outputs": [
    {
     "data": {
      "text/html": [
       "<div>\n",
       "<style>\n",
       "    .dataframe thead tr:only-child th {\n",
       "        text-align: right;\n",
       "    }\n",
       "\n",
       "    .dataframe thead th {\n",
       "        text-align: left;\n",
       "    }\n",
       "\n",
       "    .dataframe tbody tr th {\n",
       "        vertical-align: top;\n",
       "    }\n",
       "</style>\n",
       "<table border=\"1\" class=\"dataframe\">\n",
       "  <thead>\n",
       "    <tr style=\"text-align: right;\">\n",
       "      <th></th>\n",
       "      <th>game</th>\n",
       "      <th>game id</th>\n",
       "      <th>rating</th>\n",
       "      <th>username</th>\n",
       "    </tr>\n",
       "  </thead>\n",
       "  <tbody>\n",
       "    <tr>\n",
       "      <th>0</th>\n",
       "      <td>7 Wonders</td>\n",
       "      <td>68448</td>\n",
       "      <td>7.5</td>\n",
       "      <td>Quantiarc</td>\n",
       "    </tr>\n",
       "    <tr>\n",
       "      <th>1</th>\n",
       "      <td>7 Wonders Duel</td>\n",
       "      <td>173346</td>\n",
       "      <td>9.0</td>\n",
       "      <td>Quantiarc</td>\n",
       "    </tr>\n",
       "    <tr>\n",
       "      <th>2</th>\n",
       "      <td>Acquire</td>\n",
       "      <td>5</td>\n",
       "      <td>8.5</td>\n",
       "      <td>Quantiarc</td>\n",
       "    </tr>\n",
       "    <tr>\n",
       "      <th>3</th>\n",
       "      <td>Age of War</td>\n",
       "      <td>155695</td>\n",
       "      <td>7.5</td>\n",
       "      <td>Quantiarc</td>\n",
       "    </tr>\n",
       "    <tr>\n",
       "      <th>4</th>\n",
       "      <td>Agricola</td>\n",
       "      <td>31260</td>\n",
       "      <td>8.0</td>\n",
       "      <td>Quantiarc</td>\n",
       "    </tr>\n",
       "  </tbody>\n",
       "</table>\n",
       "</div>"
      ],
      "text/plain": [
       "             game  game id  rating   username\n",
       "0       7 Wonders    68448     7.5  Quantiarc\n",
       "1  7 Wonders Duel   173346     9.0  Quantiarc\n",
       "2         Acquire        5     8.5  Quantiarc\n",
       "3      Age of War   155695     7.5  Quantiarc\n",
       "4        Agricola    31260     8.0  Quantiarc"
      ]
     },
     "execution_count": 17,
     "metadata": {},
     "output_type": "execute_result"
    }
   ],
   "source": [
    "userPoolInfo.drop('Unnamed: 0', axis=1, inplace=True)\n",
    "userPoolInfo.head()"
   ]
  },
  {
   "cell_type": "code",
   "execution_count": 44,
   "metadata": {},
   "outputs": [
    {
     "data": {
      "text/plain": [
       "Text(0.5,1,'Number of ratings per game')"
      ]
     },
     "execution_count": 44,
     "metadata": {},
     "output_type": "execute_result"
    },
    {
     "data": {
      "image/png": "[encoded data removed]",
      "text/plain": [
       "<matplotlib.figure.Figure at 0x2a17027d128>"
      ]
     },
     "metadata": {},
     "output_type": "display_data"
    }
   ],
   "source": [
    "y=userPoolInfo['game id'].value_counts().tolist()\n",
    "sns.boxplot(y)\n",
    "#sns.violinplot(y)\n",
    "plt.xlabel('# ratings per game')\n",
    "#plt.xlim(0,10)\n",
    "#plt.ylim(0, 1000)\n",
    "plt.ylabel('game counts')\n",
    "plt.title('Number of ratings per game')"
   ]
  },
  {
   "cell_type": "code",
   "execution_count": 7,
   "metadata": {
    "scrolled": true
   },
   "outputs": [
    {
     "data": {
      "image/png": "[encoded data removed]",
      "text/plain": [
       "<matplotlib.figure.Figure at 0x22bf16de780>"
      ]
     },
     "metadata": {},
     "output_type": "display_data"
    }
   ],
   "source": [
    "y=np.log10(userPoolInfo['game id'].value_counts()).tolist()\n",
    "g = sns.distplot(y, kde=False, bins=15, hist_kws=dict(edgecolor=\"k\", linewidth=1))\n",
    "plt.xlabel('log(Number of ratings per game)', fontsize=20)\n",
    "sns.set_context(\"talk\")\n",
    "#g.set_xscale('log')\n",
    "#plt.xlim(1,10)\n",
    "#plt.ylim(0, 1000)\n",
    "plt.ylabel('Count', fontsize=20)\n",
    "#plt.title('Distribution of ratings per game', fontsize=20)\n",
    "plt.savefig('ratingdist.png', bbox_inches='tight')"
   ]
  },
  {
   "cell_type": "code",
   "execution_count": 20,
   "metadata": {},
   "outputs": [
    {
     "data": {
      "text/plain": [
       "Text(0.5,1,'Number of ratings per user')"
      ]
     },
     "execution_count": 20,
     "metadata": {},
     "output_type": "execute_result"
    },
    {
     "data": {
      "image/png": "[encoded data removed]",
      "text/plain": [
       "<matplotlib.figure.Figure at 0x2a16e615828>"
      ]
     },
     "metadata": {},
     "output_type": "display_data"
    }
   ],
   "source": [
    "y=userPoolInfo.username.value_counts().tolist()\n",
    "sns.boxplot(y)\n",
    "#sns.violinplot(y)\n",
    "plt.xlabel('# ratings per user')\n",
    "plt.xlim(0,500)\n",
    "#plt.ylim(0, 1000)\n",
    "#plt.ylabel('user counts')\n",
    "plt.title('Number of ratings per user')"
   ]
  },
  {
   "cell_type": "code",
   "execution_count": 12,
   "metadata": {},
   "outputs": [
    {
     "data": {
      "image/png": "[encoded data removed]",
      "text/plain": [
       "<matplotlib.figure.Figure at 0x22bf1f27860>"
      ]
     },
     "metadata": {},
     "output_type": "display_data"
    }
   ],
   "source": [
    "y=userPoolInfo.username.value_counts().tolist()\n",
    "sns.distplot(y, kde=False, bins=15, hist_kws=dict(edgecolor=\"k\", linewidth=1))\n",
    "sns.set_context(\"talk\")\n",
    "plt.xlabel('Number of ratings per user', fontsize=20)\n",
    "#plt.xlim(100,500)\n",
    "#plt.ylim(0, 225)\n",
    "plt.ylabel('Count', fontsize=20)\n",
    "#plt.title('Distribution of ratings per user', fontsize=20)\n",
    "plt.savefig('ratinguserdist.png', bbox_inches='tight')"
   ]
  },
  {
   "cell_type": "code",
   "execution_count": null,
   "metadata": {
    "collapsed": true
   },
   "outputs": [],
   "source": []
  }
 ],
 "metadata": {
  "kernelspec": {
   "display_name": "Python 3",
   "language": "python",
   "name": "python3"
  },
  "language_info": {
   "codemirror_mode": {
    "name": "ipython",
    "version": 3
   },
   "file_extension": ".py",
   "mimetype": "text/x-python",
   "name": "python",
   "nbconvert_exporter": "python",
   "pygments_lexer": "ipython3",
   "version": "3.6.3"
  },
  "toc": {
   "nav_menu": {},
   "number_sections": false,
   "sideBar": true,
   "skip_h1_title": false,
   "title_cell": "Table of Contents",
   "title_sidebar": "Contents",
   "toc_cell": false,
   "toc_position": {},
   "toc_section_display": true,
   "toc_window_display": true
  }
 },
 "nbformat": 4,
 "nbformat_minor": 2
}
